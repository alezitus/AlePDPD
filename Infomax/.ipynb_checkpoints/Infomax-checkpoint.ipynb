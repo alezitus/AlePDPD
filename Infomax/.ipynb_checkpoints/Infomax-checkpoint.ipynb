{
 "cells": [
  {
   "cell_type": "code",
   "execution_count": 1,
   "metadata": {},
   "outputs": [],
   "source": [
    "%matplotlib inline"
   ]
  },
  {
   "cell_type": "code",
   "execution_count": null,
   "metadata": {},
   "outputs": [],
   "source": [
    "import matplotlib.pyplot as plt\n",
    "import numpy as np\n",
    "import librosa\n",
    "import librosa.display as ld\n",
    "from IPython.display import Audio\n",
    "from scipy import stats"
   ]
  },
  {
   "cell_type": "code",
   "execution_count": null,
   "metadata": {},
   "outputs": [],
   "source": [
    "s1, sr = librosa.load('goat.wav', duration = 10)\n",
    "s2, sr = librosa.load('balaclava.wav', duration = 10)\n",
    "s3, sr = librosa.load('scary.wav', duration = 10)\n",
    "#s4, sr = librosa.load('atw.wav', duration = 10)\n",
    "#s5, sr = librosa.load('thepretender.wav', duration = 10)\n",
    "#s6, sr = librosa.load('winner.wav', duration = 10)"
   ]
  },
  {
   "cell_type": "code",
   "execution_count": null,
   "metadata": {},
   "outputs": [],
   "source": [
    "S = np.array([s1, s2,s3, s4])\n",
    "A = np.random.rand(len(S),len(S))\n",
    "X = A.dot(S)"
   ]
  },
  {
   "cell_type": "code",
   "execution_count": null,
   "metadata": {},
   "outputs": [],
   "source": [
    "Audio(X, rate=sr)"
   ]
  },
  {
   "cell_type": "code",
   "execution_count": null,
   "metadata": {
    "scrolled": true
   },
   "outputs": [],
   "source": [
    "X.shape"
   ]
  },
  {
   "cell_type": "code",
   "execution_count": null,
   "metadata": {},
   "outputs": [],
   "source": [
    "plt.figure(figsize =(14,5))\n",
    "ld.waveplot(S,sr=sr, x_axis='time')"
   ]
  },
  {
   "cell_type": "code",
   "execution_count": null,
   "metadata": {
    "scrolled": true
   },
   "outputs": [],
   "source": [
    "plt.figure(figsize =(14,5))\n",
    "ld.waveplot(X,sr=sr, x_axis='time')"
   ]
  },
  {
   "cell_type": "code",
   "execution_count": null,
   "metadata": {
    "scrolled": true
   },
   "outputs": [],
   "source": [
    "W = np.random.rand(len(X),len(X))\n",
    "eta = 0.0001\n",
    "I = np.eye(len(X),len(X))\n",
    "for k in range (0,X.shape[1]):\n",
    "    y = W.dot(X[:,k])\n",
    "    fy = [[np.tanh(y[m])] for m in range (len(X))]\n",
    "    W = W + eta*np.dot(I-(fy*y.T),(W))\n",
    "Y = W.dot(X)\n",
    "Y"
   ]
  },
  {
   "cell_type": "code",
   "execution_count": null,
   "metadata": {},
   "outputs": [],
   "source": [
    "plt.figure(figsize=(14,5))\n",
    "ld.waveplot(Y,sr=sr, x_axis='time')"
   ]
  },
  {
   "cell_type": "code",
   "execution_count": null,
   "metadata": {},
   "outputs": [],
   "source": [
    "#Normalização sinal original\n",
    "Sn = [k/np.std(k) for k in S]\n",
    "Sn = np.array(Sn)\n",
    "print(np.var(Sn))"
   ]
  },
  {
   "cell_type": "code",
   "execution_count": null,
   "metadata": {
    "scrolled": true
   },
   "outputs": [],
   "source": [
    "#Normalização sinal separado\n",
    "Yn = [j/np.std(j) for j in Y]\n",
    "Yn = np.array(Yn)\n",
    "print(np.var(Yn))"
   ]
  },
  {
   "cell_type": "code",
   "execution_count": null,
   "metadata": {},
   "outputs": [],
   "source": [
    "Audio(Yn[0], rate=sr)"
   ]
  },
  {
   "cell_type": "code",
   "execution_count": null,
   "metadata": {},
   "outputs": [],
   "source": [
    "Audio(Yn[1], rate=sr)"
   ]
  },
  {
   "cell_type": "code",
   "execution_count": null,
   "metadata": {},
   "outputs": [],
   "source": [
    "Audio(Yn[2], rate=sr)"
   ]
  },
  {
   "cell_type": "code",
   "execution_count": null,
   "metadata": {},
   "outputs": [],
   "source": [
    "#Cálculo da correlação de Pearson e separação dos pares de maior correlação\n",
    "allarrays = list()\n",
    "for p in range (0,len(X)): #Para comparar com S[0] e S[1]\n",
    "    corrnova = 0\n",
    "    corr = 0\n",
    "    arrays = list()\n",
    "    for o in range(0,len(X)): #Para comparar com Yn[0] e Yn[1]\n",
    "        corrnova = stats.pearsonr(Sn[p],Yn[o])\n",
    "        print(f'Correlação de Pearson vale {stats.pearsonr(Sn[p], Yn[o])[0]} entre a {p+1} linha de S e a {o+1} linha de Y')\n",
    "        if np.abs(corrnova[0]) > np.abs(corr): \n",
    "            corr = corrnova[0]\n",
    "            arrays.clear()\n",
    "            if corr < 0:\n",
    "                Yn[o] = Yn[o] * -1\n",
    "            arrays.append(((Sn[p], Yn[o]),(p,o)))\n",
    "    allarrays.append(arrays)"
   ]
  },
  {
   "cell_type": "code",
   "execution_count": null,
   "metadata": {},
   "outputs": [],
   "source": [
    "#Calculo do MSE entre os pares de maior correlação\n",
    "mseall = list()\n",
    "msgrafs = list()\n",
    "for x in allarrays:\n",
    "    mse = 0\n",
    "    msgraf = list()\n",
    "    for ponto in range (0,X.shape[1]):\n",
    "        sqr = (x[0][0][0][ponto]- x[0][0][1][ponto])**2\n",
    "        msgraf.append(sqr)\n",
    "        mse += sqr\n",
    "    msgrafs.append(msgraf)\n",
    "    mse = mse/X.shape[1]\n",
    "    posicao = x[0][1] #guarda posiçao das linhas de maior correlaçao\n",
    "    mseall.append((mse, posicao))\n",
    "for z in mseall:\n",
    "    print(f'O erro quadrático médio entre a {(z[1][0])+1}ª linha de S e a {(z[1][1])+1}ª linha de Y é de {z[0]}')"
   ]
  },
  {
   "cell_type": "code",
   "execution_count": null,
   "metadata": {},
   "outputs": [],
   "source": [
    "for a in mseall:\n",
    "    indexS = a[1][0]\n",
    "    indexY = a[1][1]\n",
    "    plt.figure(figsize = (14,5))\n",
    "    plt.plot(Sn[indexS], 'b')\n",
    "    plt.plot(Yn[indexY], 'y')\n",
    "    plt.legend(['Sinal Original', 'Sinal Separado'], loc = 'lower left')"
   ]
  },
  {
   "cell_type": "code",
   "execution_count": null,
   "metadata": {},
   "outputs": [],
   "source": [
    "grafmse = np.array(msgraf)"
   ]
  },
  {
   "cell_type": "code",
   "execution_count": null,
   "metadata": {
    "scrolled": false
   },
   "outputs": [],
   "source": [
    "for graf in range (0, len(msgrafs)):\n",
    "    plt.figure(figsize = (14,5))\n",
    "    plt.plot(msgrafs[graf])"
   ]
  },
  {
   "cell_type": "code",
   "execution_count": null,
   "metadata": {},
   "outputs": [],
   "source": []
  }
 ],
 "metadata": {
  "kernelspec": {
   "display_name": "Python 3",
   "language": "python",
   "name": "python3"
  },
  "language_info": {
   "codemirror_mode": {
    "name": "ipython",
    "version": 3
   },
   "file_extension": ".py",
   "mimetype": "text/x-python",
   "name": "python",
   "nbconvert_exporter": "python",
   "pygments_lexer": "ipython3",
   "version": "3.8.1"
  }
 },
 "nbformat": 4,
 "nbformat_minor": 4
}
