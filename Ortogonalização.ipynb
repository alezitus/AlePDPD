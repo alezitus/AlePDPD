{
 "cells": [
  {
   "cell_type": "code",
   "execution_count": 3,
   "metadata": {},
   "outputs": [],
   "source": [
    "%matplotlib inline"
   ]
  },
  {
   "cell_type": "code",
   "execution_count": 4,
   "metadata": {},
   "outputs": [],
   "source": [
    "import numpy as np\n",
    "import matplotlib.pyplot as plt"
   ]
  },
  {
   "cell_type": "code",
   "execution_count": 5,
   "metadata": {},
   "outputs": [],
   "source": [
    "np.set_printoptions(formatter={'float': '{: 0.3f}'.format})"
   ]
  },
  {
   "cell_type": "code",
   "execution_count": 6,
   "metadata": {},
   "outputs": [],
   "source": [
    "n = 10\n",
    "matriz = np.random.rand(n,n)"
   ]
  },
  {
   "cell_type": "code",
   "execution_count": 9,
   "metadata": {},
   "outputs": [],
   "source": [
    "def ortogonalizacao(matriz):\n",
    "    ortonormais = list()\n",
    "    ortogonais = list()\n",
    "    for N,v in enumerate(A):\n",
    "        if N == 0:\n",
    "            v = v\n",
    "        else:\n",
    "            for y in range(0,N):\n",
    "                v = v - ((v.dot(ortogonais[y])/ortogonais[y].dot(ortogonais[y]))*ortogonais[y])\n",
    "        e = v/np.linalg.norm(v)\n",
    "        ortonormais.append(e)\n",
    "        ortogonais.append(v)\n",
    "    print(ortonormais)\n",
    "    ortonormais = np.array(ortonormais)\n",
    "    return ortonormais"
   ]
  },
  {
   "cell_type": "code",
   "execution_count": 12,
   "metadata": {},
   "outputs": [
    {
     "name": "stdout",
     "output_type": "stream",
     "text": [
      "[array([ 0.319,  0.527,  0.144,  0.121,  0.005,  0.475,  0.308,  0.040,\n",
      "        0.136,  0.495]), array([-0.044,  0.236, -0.071,  0.528,  0.165, -0.387,  0.494,  0.292,\n",
      "        0.187, -0.344]), array([-0.012, -0.291,  0.068, -0.245,  0.566,  0.015, -0.075,  0.597,\n",
      "        0.329,  0.244]), array([ 0.598, -0.280,  0.469,  0.382, -0.085,  0.121, -0.300,  0.093,\n",
      "        0.065, -0.271]), array([-0.407, -0.182,  0.786, -0.073, -0.120, -0.063,  0.369, -0.044,\n",
      "       -0.098,  0.107]), array([ 0.527, -0.324, -0.134, -0.351, -0.244, -0.361,  0.478, -0.119,\n",
      "        0.147,  0.151]), array([-0.003,  0.264,  0.225, -0.124,  0.263, -0.262, -0.216, -0.536,\n",
      "        0.624, -0.060]), array([ 0.034, -0.126, -0.019,  0.454,  0.200, -0.440, -0.185, -0.180,\n",
      "       -0.277,  0.632]), array([ 0.258,  0.084,  0.096, -0.203,  0.652,  0.055,  0.207, -0.248,\n",
      "       -0.527, -0.257]), array([ 0.166,  0.523,  0.232, -0.330, -0.191, -0.459, -0.280,  0.388,\n",
      "       -0.245,  0.002])]\n"
     ]
    }
   ],
   "source": [
    "A = matriz.T\n",
    "A = ortogonalizacao(A)"
   ]
  },
  {
   "cell_type": "code",
   "execution_count": 15,
   "metadata": {},
   "outputs": [
    {
     "data": {
      "text/plain": [
       "array([[ 0.319,  0.527,  0.144,  0.121,  0.005,  0.475,  0.308,  0.040,\n",
       "         0.136,  0.495],\n",
       "       [-0.044,  0.236, -0.071,  0.528,  0.165, -0.387,  0.494,  0.292,\n",
       "         0.187, -0.344],\n",
       "       [-0.012, -0.291,  0.068, -0.245,  0.566,  0.015, -0.075,  0.597,\n",
       "         0.329,  0.244],\n",
       "       [ 0.598, -0.280,  0.469,  0.382, -0.085,  0.121, -0.300,  0.093,\n",
       "         0.065, -0.271],\n",
       "       [-0.407, -0.182,  0.786, -0.073, -0.120, -0.063,  0.369, -0.044,\n",
       "        -0.098,  0.107],\n",
       "       [ 0.527, -0.324, -0.134, -0.351, -0.244, -0.361,  0.478, -0.119,\n",
       "         0.147,  0.151],\n",
       "       [-0.003,  0.264,  0.225, -0.124,  0.263, -0.262, -0.216, -0.536,\n",
       "         0.624, -0.060],\n",
       "       [ 0.034, -0.126, -0.019,  0.454,  0.200, -0.440, -0.185, -0.180,\n",
       "        -0.277,  0.632],\n",
       "       [ 0.258,  0.084,  0.096, -0.203,  0.652,  0.055,  0.207, -0.248,\n",
       "        -0.527, -0.257],\n",
       "       [ 0.166,  0.523,  0.232, -0.330, -0.191, -0.459, -0.280,  0.388,\n",
       "        -0.245,  0.002]])"
      ]
     },
     "execution_count": 15,
     "metadata": {},
     "output_type": "execute_result"
    }
   ],
   "source": [
    "A"
   ]
  },
  {
   "cell_type": "code",
   "execution_count": 18,
   "metadata": {},
   "outputs": [
    {
     "ename": "NameError",
     "evalue": "name 'ortogonais' is not defined",
     "output_type": "error",
     "traceback": [
      "\u001b[1;31m---------------------------------------------------------------------------\u001b[0m",
      "\u001b[1;31mNameError\u001b[0m                                 Traceback (most recent call last)",
      "\u001b[1;32m<ipython-input-18-ea580cb64f2b>\u001b[0m in \u001b[0;36m<module>\u001b[1;34m\u001b[0m\n\u001b[1;32m----> 1\u001b[1;33m \u001b[0mortogonais\u001b[0m\u001b[1;33m.\u001b[0m\u001b[0mshape\u001b[0m\u001b[1;33m\u001b[0m\u001b[1;33m\u001b[0m\u001b[0m\n\u001b[0m",
      "\u001b[1;31mNameError\u001b[0m: name 'ortogonais' is not defined"
     ]
    }
   ],
   "source": [
    "ortogonais.shape"
   ]
  },
  {
   "cell_type": "code",
   "execution_count": null,
   "metadata": {},
   "outputs": [],
   "source": []
  }
 ],
 "metadata": {
  "kernelspec": {
   "display_name": "Python 3",
   "language": "python",
   "name": "python3"
  },
  "language_info": {
   "codemirror_mode": {
    "name": "ipython",
    "version": 3
   },
   "file_extension": ".py",
   "mimetype": "text/x-python",
   "name": "python",
   "nbconvert_exporter": "python",
   "pygments_lexer": "ipython3",
   "version": "3.8.6"
  }
 },
 "nbformat": 4,
 "nbformat_minor": 4
}
