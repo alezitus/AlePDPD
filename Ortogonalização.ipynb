{
 "cells": [
  {
   "cell_type": "code",
   "execution_count": 93,
   "metadata": {},
   "outputs": [],
   "source": [
    "%matplotlib inline"
   ]
  },
  {
   "cell_type": "code",
   "execution_count": 94,
   "metadata": {},
   "outputs": [],
   "source": [
    "import numpy as np\n",
    "import matplotlib.pyplot as plt"
   ]
  },
  {
   "cell_type": "code",
   "execution_count": 99,
   "metadata": {},
   "outputs": [],
   "source": [
    "n = 10\n",
    "matriz = np.random.rand(n,n)"
   ]
  },
  {
   "cell_type": "code",
   "execution_count": 100,
   "metadata": {
    "scrolled": true
   },
   "outputs": [
    {
     "name": "stdout",
     "output_type": "stream",
     "text": [
      "-6.938893903907228e-17\n",
      "-5.551115123125783e-17\n",
      "6.938893903907228e-17\n",
      "0.0\n",
      "-4.440892098500626e-16\n",
      "-1.1102230246251565e-16\n",
      "-1.1102230246251565e-16\n",
      "-1.1102230246251565e-16\n",
      "1.1102230246251565e-16\n"
     ]
    }
   ],
   "source": [
    "A = matriz.T\n",
    "u = 0\n",
    "ortogonais = list()\n",
    "ortonormais = list()\n",
    "for N,v in enumerate(A):\n",
    "    if N == 0:\n",
    "        u = v\n",
    "    else:\n",
    "        ua = u\n",
    "        u = v - ((v.dot(u)/u.dot(u))*u)\n",
    "        print(ua.dot(u))\n",
    "    e = u/np.linalg.norm(u)\n",
    "    ortogonais.append(u)\n",
    "    ortonormais.append(e)\n",
    "ortonormais = np.array(ortonormais)\n",
    "ortogonais = np.array(ortogonais)"
   ]
  },
  {
   "cell_type": "code",
   "execution_count": null,
   "metadata": {},
   "outputs": [],
   "source": []
  }
 ],
 "metadata": {
  "kernelspec": {
   "display_name": "Python 3",
   "language": "python",
   "name": "python3"
  },
  "language_info": {
   "codemirror_mode": {
    "name": "ipython",
    "version": 3
   },
   "file_extension": ".py",
   "mimetype": "text/x-python",
   "name": "python",
   "nbconvert_exporter": "python",
   "pygments_lexer": "ipython3",
   "version": "3.8.6"
  }
 },
 "nbformat": 4,
 "nbformat_minor": 4
}
