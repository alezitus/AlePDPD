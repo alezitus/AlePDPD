{
 "cells": [
  {
   "cell_type": "code",
   "execution_count": 232,
   "metadata": {},
   "outputs": [],
   "source": [
    "%matplotlib inline"
   ]
  },
  {
   "cell_type": "code",
   "execution_count": 233,
   "metadata": {},
   "outputs": [],
   "source": [
    "import numpy as np\n",
    "import matplotlib.pyplot as plt"
   ]
  },
  {
   "cell_type": "code",
   "execution_count": 234,
   "metadata": {},
   "outputs": [],
   "source": [
    "b0 = np.random.rand(2)"
   ]
  },
  {
   "cell_type": "code",
   "execution_count": 235,
   "metadata": {},
   "outputs": [],
   "source": [
    "cov = np.array([[3, 1], [1,2]])\n",
    "def mp(cov, num):\n",
    "    for n in range(num):\n",
    "        if n == 0:\n",
    "            bk = cov.dot(b0)\n",
    "        else:\n",
    "            bk = cov.dot(bk)\n",
    "        norm = np.linalg.norm(bk)\n",
    "        bknorm = bk/norm\n",
    "    return bknorm"
   ]
  },
  {
   "cell_type": "code",
   "execution_count": 409,
   "metadata": {},
   "outputs": [],
   "source": [
    "def pca(a, sizex):\n",
    "    cov = np.array([[3, 1], [1,2]])\n",
    "    mean = np.zeros(2)\n",
    "    a = a\n",
    "    x = np.random.multivariate_normal(mean = mean, cov = cov, size =sizex)\n",
    "    W = np.random.rand(1,2)\n",
    "    Want = W\n",
    "    cont = it = 0\n",
    "    w1 = list()\n",
    "    w2 = list()\n",
    "    for n in range(sizex):\n",
    "        y = (W).dot(x[n,:])\n",
    "        c = (x[n,:].T)*(y)\n",
    "        d = y*y*(W)\n",
    "        dw = a*(c - d)\n",
    "        Want = W\n",
    "        W= W+dw\n",
    "        dif = np.abs(W - Want)\n",
    "        if dif[0][0] < a*0.8 and dif[0][1] < a*0.8:\n",
    "            it += 1\n",
    "        else:\n",
    "            it = 0\n",
    "        if it == 14 :\n",
    "            break\n",
    "        cont = cont+1\n",
    "        w1.append(W[0][0])\n",
    "        w2.append(W[0][1])\n",
    "    plt.figure()\n",
    "    plt.plot(w1)\n",
    "    plt.plot(w2)\n",
    "    print(f'Taxa de Aprendizagem : {a}\\nNúmero de Amostras em X: {sizex}\\nVetor W: {W}\\nAutovetor: {mp(cov,10)}\\nNúmero de iterações até convergência:{cont}')\n"
   ]
  },
  {
   "cell_type": "code",
   "execution_count": null,
   "metadata": {},
   "outputs": [],
   "source": [
    "def pca(a, sizex):\n",
    "    cov = np.array([[3, 1], [1,2]])\n",
    "    mean = np.zeros(2)\n",
    "    a = a\n",
    "    x = np.random.multivariate_normal(mean = mean, cov = cov, size =sizex)\n",
    "    W = np.random.rand(1,2)\n",
    "    Want = W\n",
    "    cont = it = 0\n",
    "    w1 = list()\n",
    "    w2 = list()\n",
    "    for y in range(0.5, 1.5, 0.1):\n",
    "        for x in range(0, 10):\n",
    "            for n in range(sizex):\n",
    "                y = (W).dot(x[n,:])\n",
    "                c = (x[n,:].T)*(y)\n",
    "                d = y*y*(W)\n",
    "                dw = a*(c - d)\n",
    "                Want = W\n",
    "                W= W+dw\n",
    "                dif = np.abs(W - Want)\n",
    "                if dif[0][0] < a*y and dif[0][1] < a*y:\n",
    "                    it += 1\n",
    "                else:\n",
    "                    it = 0\n",
    "                if it == 14 :\n",
    "                    break\n",
    "                cont = cont+1\n",
    "                w1.append(W[0][0])\n",
    "                w2.append(W[0][1])\n",
    "    plt.figure()\n",
    "    plt.plot(w1)\n",
    "    plt.plot(w2)\n",
    "    print(f'Taxa de Aprendizagem : {a}\\nNúmero de Amostras em X: {sizex}\\nVetor W: {W}\\nAutovetor: {mp(cov,10)}\\nNúmero de iterações até convergência:{cont}')\n"
   ]
  },
  {
   "cell_type": "code",
   "execution_count": 433,
   "metadata": {},
   "outputs": [
    {
     "name": "stdout",
     "output_type": "stream",
     "text": [
      "Taxa de Aprendizagem : 0.1\n",
      "Número de Amostras em X: 3000\n",
      "Vetor W: [[nan nan]]\n",
      "Autovetor: [0.85064282 0.52574404]\n",
      "Número de iterações até convergência:3000\n"
     ]
    },
    {
     "name": "stderr",
     "output_type": "stream",
     "text": [
      "<ipython-input-409-d4c5128b5e2d>:14: RuntimeWarning: overflow encountered in multiply\n",
      "  d = y*y*(W)\n",
      "<ipython-input-409-d4c5128b5e2d>:15: RuntimeWarning: invalid value encountered in subtract\n",
      "  dw = a*(c - d)\n"
     ]
    },
    {
     "data": {
      "image/png": "[encoded data removed]",
      "text/plain": [
       "<Figure size 432x288 with 1 Axes>"
      ]
     },
     "metadata": {
      "needs_background": "light"
     },
     "output_type": "display_data"
    }
   ],
   "source": [
    "pca(0.1, 3000)"
   ]
  },
  {
   "cell_type": "code",
   "execution_count": 411,
   "metadata": {},
   "outputs": [
    {
     "name": "stdout",
     "output_type": "stream",
     "text": [
      "Taxa de Aprendizagem : 0.001\n",
      "Número de Amostras em X: 3000\n",
      "Vetor W: [[0.87517962 0.48462753]]\n",
      "Autovetor: [0.85064282 0.52574404]\n",
      "Número de iterações até convergência:3000\n"
     ]
    },
    {
     "data": {
      "image/png": "[encoded data removed]",
      "text/plain": [
       "<Figure size 432x288 with 1 Axes>"
      ]
     },
     "metadata": {
      "needs_background": "light"
     },
     "output_type": "display_data"
    }
   ],
   "source": [
    "pca(0.001, 3000)"
   ]
  },
  {
   "cell_type": "code",
   "execution_count": 412,
   "metadata": {},
   "outputs": [
    {
     "name": "stdout",
     "output_type": "stream",
     "text": [
      "Taxa de Aprendizagem : 0.001\n",
      "Número de Amostras em X: 3000\n",
      "Vetor W: [[0.86930133 0.49483959]]\n",
      "Autovetor: [0.85064282 0.52574404]\n",
      "Número de iterações até convergência:3000\n"
     ]
    },
    {
     "data": {
      "image/png": "[encoded data removed]",
      "text/plain": [
       "<Figure size 432x288 with 1 Axes>"
      ]
     },
     "metadata": {
      "needs_background": "light"
     },
     "output_type": "display_data"
    }
   ],
   "source": [
    "pca(0.001, 3000)"
   ]
  },
  {
   "cell_type": "code",
   "execution_count": null,
   "metadata": {},
   "outputs": [],
   "source": [
    "def pca(a, sizex):\n",
    "    cov = np.array([[3, 1], [1,2]])\n",
    "    mean = np.zeros(2)\n",
    "    a = a\n",
    "    x = np.random.multivariate_normal(mean = mean, cov = cov, size =sizex)\n",
    "    W = np.random.rand(1,2)\n",
    "    Want = W\n",
    "    cont = it = 0\n",
    "    w1 = list()\n",
    "    w2 = list()\n",
    "    for n in range(sizex):\n",
    "        y = (W).dot(x[n,:])\n",
    "        c = (x[n,:].T)*(y)\n",
    "        d = y*y*(W)\n",
    "        dw = a*(c - d)\n",
    "        Want = W\n",
    "        W= W+dw\n",
    "        dif = np.abs(W - Want)\n",
    "        if dif[0][0] < a*0.8 and dif[0][1] < a*0.8:\n",
    "            it += 1\n",
    "        else:\n",
    "            it = 0\n",
    "        if it == 14 :\n",
    "            break\n",
    "        cont = cont+1\n",
    "        w1.append(W[0][0])\n",
    "        w2.append(W[0][1])\n",
    "    plt.figure()\n",
    "    plt.plot(w1)\n",
    "    plt.plot(w2)\n",
    "    print(f'Taxa de Aprendizagem : {a}\\nNúmero de Amostras em X: {sizex}\\nVetor W: {W}\\nAutovetor: {mp(cov,10)}\\nNúmero de iterações até convergência:{cont}')\n"
   ]
  }
 ],
 "metadata": {
  "kernelspec": {
   "display_name": "Python 3",
   "language": "python",
   "name": "python3"
  },
  "language_info": {
   "codemirror_mode": {
    "name": "ipython",
    "version": 3
   },
   "file_extension": ".py",
   "mimetype": "text/x-python",
   "name": "python",
   "nbconvert_exporter": "python",
   "pygments_lexer": "ipython3",
   "version": "3.8.1"
  }
 },
 "nbformat": 4,
 "nbformat_minor": 4
}
