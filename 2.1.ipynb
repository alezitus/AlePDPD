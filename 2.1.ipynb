{
 "cells": [
  {
   "cell_type": "code",
   "execution_count": 2,
   "metadata": {},
   "outputs": [],
   "source": [
    "%matplotlib inline"
   ]
  },
  {
   "cell_type": "code",
   "execution_count": 3,
   "metadata": {},
   "outputs": [],
   "source": [
    "import matplotlib.pyplot as plt\n",
    "import numpy as np"
   ]
  },
  {
   "cell_type": "code",
   "execution_count": 3,
   "metadata": {},
   "outputs": [
    {
     "name": "stdout",
     "output_type": "stream",
     "text": [
      "[[1.00118207 0.00412619]\n",
      " [0.00412619 0.99133893]]\n"
     ]
    },
    {
     "data": {
      "text/plain": [
       "array([[-0.52501791,  0.38886774],\n",
       "       [-0.90598776,  0.09712226],\n",
       "       [-1.58681259,  0.00628282],\n",
       "       ...,\n",
       "       [ 2.69576881, -0.72759314],\n",
       "       [-0.38181178, -1.91096019],\n",
       "       [-0.00672266, -1.98141414]])"
      ]
     },
     "execution_count": 3,
     "metadata": {},
     "output_type": "execute_result"
    }
   ],
   "source": [
    "mean = np.zeros(2)\n",
    "n = np.random.multivariate_normal(mean = mean, cov = np.eye(2,2), size =100000)\n",
    "a = n-mean\n",
    "b = a.T\n",
    "mult = (b).dot(a)\n",
    "#soma = 0\n",
    "#for x in mult:\n",
    "#    soma += np.mean(x)\n",
    "#print(soma/len(mult))\n",
    "#print(np.mean(mult))\n",
    "#print(np.linalg.det(np.cov(n)))\n",
    "print(mult/len(a))\n",
    "n\n"
   ]
  },
  {
   "cell_type": "code",
   "execution_count": 46,
   "metadata": {},
   "outputs": [
    {
     "name": "stdout",
     "output_type": "stream",
     "text": [
      "[[ 1.00069634 -0.00409725]\n",
      " [-0.00409725  0.99847454]]\n"
     ]
    }
   ],
   "source": [
    "mean = np.zeros(2)\n",
    "n = np.random.multivariate_normal(mean = mean, cov = np.eye(2,2), size =100000)\n",
    "a = n-mean\n",
    "#b = a.T\n",
    "soma = 0\n",
    "for x in n:\n",
    "    soma += np.outer(x,x)\n",
    "print(soma/len(n))\n",
    "#print(np.mean(mult))\n",
    "#print(np.linalg.det(np.cov(n)))\n",
    "#print(mult/len(a))"
   ]
  },
  {
   "cell_type": "code",
   "execution_count": null,
   "metadata": {},
   "outputs": [],
   "source": []
  }
 ],
 "metadata": {
  "kernelspec": {
   "display_name": "Python 3",
   "language": "python",
   "name": "python3"
  },
  "language_info": {
   "codemirror_mode": {
    "name": "ipython",
    "version": 3
   },
   "file_extension": ".py",
   "mimetype": "text/x-python",
   "name": "python",
   "nbconvert_exporter": "python",
   "pygments_lexer": "ipython3",
   "version": "3.8.1"
  }
 },
 "nbformat": 4,
 "nbformat_minor": 4
}
